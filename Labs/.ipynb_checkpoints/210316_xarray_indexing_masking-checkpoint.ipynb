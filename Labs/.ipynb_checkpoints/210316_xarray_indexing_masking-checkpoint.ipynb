{
 "cells": [
  {
   "cell_type": "markdown",
   "metadata": {},
   "source": [
    "# Indexing and masking on xarray"
   ]
  },
  {
   "cell_type": "code",
   "execution_count": null,
   "metadata": {},
   "outputs": [],
   "source": [
    "#Import xarray\n",
    "import xarray as xr\n",
    "#Other useful Python libraries\n",
    "import os\n",
    "import matplotlib.pyplot as plt\n",
    "import numpy as np\n",
    "\n",
    "# This is what the display will look like on Sublime so we'll change our display style to reflect that\n",
    "xr.set_options(display_style=\"text\")"
   ]
  },
  {
   "cell_type": "markdown",
   "metadata": {},
   "source": [
    "Load in the SST data and save the necessary variables"
   ]
  },
  {
   "cell_type": "code",
   "execution_count": null,
   "metadata": {},
   "outputs": [],
   "source": [
    "#Change to path of directory\n",
    "dataPath = '/Users/hellenfellow/Dropbox (AMNH)/AMNH-Ankitha/Teaching_2021/Lessons/Unit2_Ocean_Temperature/Data'\n",
    "os.chdir(dataPath)\n",
    "os.getcwd()"
   ]
  },
  {
   "cell_type": "code",
   "execution_count": null,
   "metadata": {},
   "outputs": [],
   "source": [
    "# Load the sea surface temperature dataset\n",
    "fileName = 'HadISST_sst.nc'\n",
    "data = xr.open_dataset(fileName)\n",
    "\n",
    "#Save the necessary variables\n",
    "sst = data.sst\n",
    "lat = data.sst.latitude\n",
    "lon = data.sst.longitude\n",
    "time = data.sst.time"
   ]
  },
  {
   "cell_type": "markdown",
   "metadata": {},
   "source": [
    "### Refresher on list indexing\n",
    "\n",
    "For the provided list, find\n",
    "1. the first and last element\n",
    "1. second half of the list"
   ]
  },
  {
   "cell_type": "code",
   "execution_count": null,
   "metadata": {},
   "outputs": [],
   "source": [
    "test_list = [i for i in range(2,42,2)] #does the same thing as appending values to a list\n",
    "test_list"
   ]
  },
  {
   "cell_type": "code",
   "execution_count": null,
   "metadata": {},
   "outputs": [],
   "source": [
    "#first and last element\n",
    "\n"
   ]
  },
  {
   "cell_type": "code",
   "execution_count": null,
   "metadata": {},
   "outputs": [],
   "source": [
    "#second half of list\n",
    "\n"
   ]
  },
  {
   "cell_type": "markdown",
   "metadata": {},
   "source": [
    "### Indexing NumPy arrays\n",
    "\n",
    "Lists are only useful when storing one dimensional data. For multidimensional data, we would use NumPy arrays instead. "
   ]
  },
  {
   "cell_type": "code",
   "execution_count": null,
   "metadata": {},
   "outputs": [],
   "source": [
    "#Create dataset\n",
    "x = np.arange(-5,5)\n",
    "y = x\n",
    "X, Y = np.meshgrid(x,y)\n",
    "data = X**2 + Y**2\n",
    "data"
   ]
  },
  {
   "cell_type": "markdown",
   "metadata": {},
   "source": [
    "Our data looks a little bit like a grid. Say we want the element in the **first** row and **second** column i.e 41"
   ]
  },
  {
   "cell_type": "code",
   "execution_count": null,
   "metadata": {},
   "outputs": [],
   "source": [
    "data[0,1] #data[first row, second column]"
   ]
  },
  {
   "cell_type": "markdown",
   "metadata": {},
   "source": [
    "Find the index for 0 in the dataset"
   ]
  },
  {
   "cell_type": "code",
   "execution_count": null,
   "metadata": {},
   "outputs": [],
   "source": []
  },
  {
   "cell_type": "markdown",
   "metadata": {},
   "source": [
    "Print out the first 3 columns. \n",
    "\n",
    "*Hint:* To output everything in a dimension, you would use `:`"
   ]
  },
  {
   "cell_type": "code",
   "execution_count": null,
   "metadata": {},
   "outputs": [],
   "source": []
  },
  {
   "cell_type": "markdown",
   "metadata": {},
   "source": [
    "### Indexing on xarray\n",
    "\n",
    "xarray saves its multidimensional data as NumPy arrays but has some additional functionalities.\n",
    "\n",
    "First find the three dimensions of the SST dataset.\n",
    "\n",
    "*Hint*: There's a pretty handy xarray method to do this!"
   ]
  },
  {
   "cell_type": "code",
   "execution_count": null,
   "metadata": {},
   "outputs": [],
   "source": []
  },
  {
   "cell_type": "markdown",
   "metadata": {},
   "source": [
    "Let's find SST of the first time period in the dataset (Jan 1870 or the 0th value of the time dimension) over the entire Earth or all the latitude and longitude values. \n",
    "\n",
    "This follows the same syntax as the 2D data we just worked with but now you have 3 dimensions!"
   ]
  },
  {
   "cell_type": "code",
   "execution_count": null,
   "metadata": {},
   "outputs": [],
   "source": []
  },
  {
   "cell_type": "markdown",
   "metadata": {},
   "source": [
    "Find the data for the first time period and the 89th and 90th latitude value. This is all the Jan 1870 temperature data along the equator. "
   ]
  },
  {
   "cell_type": "code",
   "execution_count": null,
   "metadata": {},
   "outputs": [],
   "source": []
  },
  {
   "cell_type": "markdown",
   "metadata": {},
   "source": [
    "Figuring out what coordinates these index values correspond to can be tricky. xarray makes this easier with the `loc[]` method where you can specify the range of the actual coordinate values you want. The latitude values that come closest to the equator are 0.5N (0.5) and 0.5S (-0.5).\n",
    "\n",
    "Using `loc[]`, the result above would be:"
   ]
  },
  {
   "cell_type": "code",
   "execution_count": null,
   "metadata": {},
   "outputs": [],
   "source": [
    "sst.loc['1870-01-16T11:59:59.505615234',0.5:-0.5,:] #the latitude values go from positive to negative or North to South"
   ]
  },
  {
   "cell_type": "code",
   "execution_count": null,
   "metadata": {},
   "outputs": [],
   "source": [
    "#or even (making use of the powerful time indexing)\n",
    "sst.loc['1870-01',0.5:-0.5,:]"
   ]
  },
  {
   "cell_type": "markdown",
   "metadata": {},
   "source": [
    "What about all temperature values along the equator for the year 1870?"
   ]
  },
  {
   "cell_type": "code",
   "execution_count": null,
   "metadata": {},
   "outputs": [],
   "source": []
  },
  {
   "cell_type": "markdown",
   "metadata": {},
   "source": [
    "Since we're studying the impact of the North Atlantic Oscillation on the ocean, we want to identify a good region to conduct our data analysis of ocean temperature over. What might that be?\n",
    "\n",
    "Find the SST for this region."
   ]
  },
  {
   "cell_type": "code",
   "execution_count": null,
   "metadata": {},
   "outputs": [],
   "source": []
  },
  {
   "cell_type": "markdown",
   "metadata": {},
   "source": [
    "### Masking on xarray\n",
    "\n",
    "You might have noticed that parts of the SST data are marked with NaN (or Not a Number). These are the Earth's land masses; the regions generally whited out on a plot of the data. This data is **masked**.\n",
    "\n",
    "We can create our own masks using the `where` method. Here, rather than specifying a range of values to index over, you specify a condition your data must meet. For example, all temperature values not equal to 30&deg;C.\n",
    "\n",
    "Python conditions\n",
    "* equals: `a == b`\n",
    "* not equals: `a != b`\n",
    "* less than: `a < b`\n",
    "* less than or equal to: `a <= b`\n",
    "* greater than: `a > b`\n",
    "* greater than or equal to: `a >= b`"
   ]
  },
  {
   "cell_type": "code",
   "execution_count": null,
   "metadata": {},
   "outputs": [],
   "source": [
    "sst.where(sst != 30)"
   ]
  },
  {
   "cell_type": "markdown",
   "metadata": {},
   "source": [
    "Find all the SST values less than or equal 0&deg;C"
   ]
  },
  {
   "cell_type": "code",
   "execution_count": null,
   "metadata": {},
   "outputs": [],
   "source": []
  },
  {
   "cell_type": "markdown",
   "metadata": {},
   "source": [
    "Plot the mean of this masked SST data using a contour plot"
   ]
  },
  {
   "cell_type": "code",
   "execution_count": null,
   "metadata": {},
   "outputs": [],
   "source": []
  },
  {
   "cell_type": "markdown",
   "metadata": {},
   "source": [
    "### Challenge\n",
    "\n",
    "Plot the mean SST for the Northern Hemisphere.\n",
    "\n",
    "*Hint*: You can set your conditions for SST based on your latitude values"
   ]
  },
  {
   "cell_type": "code",
   "execution_count": null,
   "metadata": {},
   "outputs": [],
   "source": []
  }
 ],
 "metadata": {
  "kernelspec": {
   "display_name": "Python 3",
   "language": "python",
   "name": "python3"
  },
  "language_info": {
   "codemirror_mode": {
    "name": "ipython",
    "version": 3
   },
   "file_extension": ".py",
   "mimetype": "text/x-python",
   "name": "python",
   "nbconvert_exporter": "python",
   "pygments_lexer": "ipython3",
   "version": "3.7.6"
  }
 },
 "nbformat": 4,
 "nbformat_minor": 4
}
