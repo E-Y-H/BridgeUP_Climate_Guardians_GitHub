{
 "cells": [
  {
   "cell_type": "markdown",
   "metadata": {},
   "source": [
    "# Indexing and masking on xarray"
   ]
  },
  {
   "cell_type": "code",
   "execution_count": 7,
   "metadata": {},
   "outputs": [
    {
     "data": {
      "text/plain": [
       "<xarray.core.options.set_options at 0x110db2520>"
      ]
     },
     "execution_count": 7,
     "metadata": {},
     "output_type": "execute_result"
    }
   ],
   "source": [
    "#Import xarray\n",
    "import xarray as xr\n",
    "#Other useful Python libraries\n",
    "import os\n",
    "import matplotlib.pyplot as plt\n",
    "import numpy as np\n",
    "\n",
    "# This is what the display will look like on Sublime so we'll change our display style to reflect that\n",
    "xr.set_options(display_style=\"text\")"
   ]
  },
  {
   "cell_type": "markdown",
   "metadata": {},
   "source": [
    "Load in the SST data and save the necessary variables"
   ]
  },
  {
   "cell_type": "code",
   "execution_count": 8,
   "metadata": {},
   "outputs": [
    {
     "data": {
      "text/plain": [
       "'/Users/brownscholar/Desktop/2020_BridgeUP_Internships/Data'"
      ]
     },
     "execution_count": 8,
     "metadata": {},
     "output_type": "execute_result"
    }
   ],
   "source": [
    "#Change to path of directory\n",
    "dataPath = '/Users/brownscholar/Desktop/2020_BridgeUP_Internships/Data'\n",
    "os.chdir(dataPath)\n",
    "os.getcwd()"
   ]
  },
  {
   "cell_type": "code",
   "execution_count": 9,
   "metadata": {},
   "outputs": [
    {
     "data": {
      "text/plain": [
       "'/Users/brownscholar/Desktop/2020_BridgeUP_Internships/Data'"
      ]
     },
     "execution_count": 9,
     "metadata": {},
     "output_type": "execute_result"
    }
   ],
   "source": [
    "os.getcwd()"
   ]
  },
  {
   "cell_type": "code",
   "execution_count": 11,
   "metadata": {},
   "outputs": [],
   "source": [
    "# Load the sea surface temperature dataset\n",
    "fileName = 'HadISST_sst.nc'\n",
    "sstdata = xr.open_dataset(fileName)\n",
    "\n",
    "#Save the necessary variables\n",
    "sst = sstdata.sst\n",
    "lat = sstdata.sst.latitude\n",
    "lon = sstdata.sst.longitude\n",
    "time = sstdata.sst.time"
   ]
  },
  {
   "cell_type": "markdown",
   "metadata": {},
   "source": [
    "### Refresher on list indexing\n",
    "\n",
    "For the provided list, find\n",
    "1. the first and last element\n",
    "1. second half of the list"
   ]
  },
  {
   "cell_type": "code",
   "execution_count": 12,
   "metadata": {},
   "outputs": [
    {
     "data": {
      "text/plain": [
       "[2, 4, 6, 8, 10, 12, 14, 16, 18, 20, 22, 24, 26, 28, 30, 32, 34, 36, 38, 40]"
      ]
     },
     "execution_count": 12,
     "metadata": {},
     "output_type": "execute_result"
    }
   ],
   "source": [
    "test_list = [i for i in range(2,42,2)] #does the same thing as appending values to a list\n",
    "test_list"
   ]
  },
  {
   "cell_type": "code",
   "execution_count": 13,
   "metadata": {},
   "outputs": [
    {
     "data": {
      "text/plain": [
       "2"
      ]
     },
     "execution_count": 13,
     "metadata": {},
     "output_type": "execute_result"
    }
   ],
   "source": [
    "#first and last element\n",
    "test_list[0]"
   ]
  },
  {
   "cell_type": "code",
   "execution_count": 14,
   "metadata": {},
   "outputs": [
    {
     "data": {
      "text/plain": [
       "40"
      ]
     },
     "execution_count": 14,
     "metadata": {},
     "output_type": "execute_result"
    }
   ],
   "source": [
    "test_list[19]"
   ]
  },
  {
   "cell_type": "code",
   "execution_count": 15,
   "metadata": {},
   "outputs": [
    {
     "data": {
      "text/plain": [
       "20"
      ]
     },
     "execution_count": 15,
     "metadata": {},
     "output_type": "execute_result"
    }
   ],
   "source": [
    "#second half of list\n",
    "len(test_list)"
   ]
  },
  {
   "cell_type": "code",
   "execution_count": 16,
   "metadata": {},
   "outputs": [
    {
     "data": {
      "text/plain": [
       "[40]"
      ]
     },
     "execution_count": 16,
     "metadata": {},
     "output_type": "execute_result"
    }
   ],
   "source": [
    "test_list[19:20]"
   ]
  },
  {
   "cell_type": "markdown",
   "metadata": {},
   "source": [
    "### Indexing NumPy arrays\n",
    "\n",
    "Lists are only useful when storing one dimensional data. For multidimensional data, we would use NumPy arrays instead. "
   ]
  },
  {
   "cell_type": "code",
   "execution_count": 17,
   "metadata": {},
   "outputs": [
    {
     "data": {
      "text/plain": [
       "array([[50, 41, 34, 29, 26, 25, 26, 29, 34, 41],\n",
       "       [41, 32, 25, 20, 17, 16, 17, 20, 25, 32],\n",
       "       [34, 25, 18, 13, 10,  9, 10, 13, 18, 25],\n",
       "       [29, 20, 13,  8,  5,  4,  5,  8, 13, 20],\n",
       "       [26, 17, 10,  5,  2,  1,  2,  5, 10, 17],\n",
       "       [25, 16,  9,  4,  1,  0,  1,  4,  9, 16],\n",
       "       [26, 17, 10,  5,  2,  1,  2,  5, 10, 17],\n",
       "       [29, 20, 13,  8,  5,  4,  5,  8, 13, 20],\n",
       "       [34, 25, 18, 13, 10,  9, 10, 13, 18, 25],\n",
       "       [41, 32, 25, 20, 17, 16, 17, 20, 25, 32]])"
      ]
     },
     "execution_count": 17,
     "metadata": {},
     "output_type": "execute_result"
    }
   ],
   "source": [
    "#Create dataset\n",
    "x = np.arange(-5,5)\n",
    "y = x\n",
    "X, Y = np.meshgrid(x,y)\n",
    "data = X**2 + Y**2\n",
    "data"
   ]
  },
  {
   "cell_type": "markdown",
   "metadata": {},
   "source": [
    "Our data looks a little bit like a grid. Say we want the element in the **first** row and **second** column i.e 41"
   ]
  },
  {
   "cell_type": "code",
   "execution_count": 18,
   "metadata": {},
   "outputs": [
    {
     "data": {
      "text/plain": [
       "41"
      ]
     },
     "execution_count": 18,
     "metadata": {},
     "output_type": "execute_result"
    }
   ],
   "source": [
    "data[0,1] #data[first row, second column]"
   ]
  },
  {
   "cell_type": "markdown",
   "metadata": {},
   "source": [
    "Find the index for 0 in the dataset"
   ]
  },
  {
   "cell_type": "code",
   "execution_count": 19,
   "metadata": {},
   "outputs": [
    {
     "data": {
      "text/plain": [
       "0"
      ]
     },
     "execution_count": 19,
     "metadata": {},
     "output_type": "execute_result"
    }
   ],
   "source": [
    "data[5,5]"
   ]
  },
  {
   "cell_type": "markdown",
   "metadata": {},
   "source": [
    "Print out the first 3 columns. \n",
    "\n",
    "*Hint:* To output everything in a dimension, you would use `:`"
   ]
  },
  {
   "cell_type": "code",
   "execution_count": 20,
   "metadata": {},
   "outputs": [
    {
     "data": {
      "text/plain": [
       "array([[50, 41, 34, 29, 26, 25, 26, 29, 34, 41],\n",
       "       [41, 32, 25, 20, 17, 16, 17, 20, 25, 32],\n",
       "       [34, 25, 18, 13, 10,  9, 10, 13, 18, 25]])"
      ]
     },
     "execution_count": 20,
     "metadata": {},
     "output_type": "execute_result"
    }
   ],
   "source": [
    "data[0:3]"
   ]
  },
  {
   "cell_type": "markdown",
   "metadata": {},
   "source": [
    "### Indexing on xarray\n",
    "\n",
    "xarray saves its multidimensional data as NumPy arrays but has some additional functionalities.\n",
    "\n",
    "First find the three dimensions of the SST dataset.\n",
    "\n",
    "*Hint*: There's a pretty handy xarray method to do this!"
   ]
  },
  {
   "cell_type": "code",
   "execution_count": 21,
   "metadata": {},
   "outputs": [
    {
     "data": {
      "text/html": [
       "<pre>&lt;xarray.Dataset&gt;\n",
       "Dimensions:    (latitude: 180, longitude: 360, nv: 2, time: 1811)\n",
       "Coordinates:\n",
       "  * time       (time) datetime64[ns] 1870-01-16T11:59:59.505615234 ... 2020-1...\n",
       "  * latitude   (latitude) float32 89.5 88.5 87.5 86.5 ... -87.5 -88.5 -89.5\n",
       "  * longitude  (longitude) float32 -179.5 -178.5 -177.5 ... 177.5 178.5 179.5\n",
       "Dimensions without coordinates: nv\n",
       "Data variables:\n",
       "    time_bnds  (time, nv) float32 ...\n",
       "    sst        (time, latitude, longitude) float32 ...\n",
       "Attributes:\n",
       "    Title:                      Monthly version of HadISST sea surface temper...\n",
       "    description:                HadISST 1.1 monthly average sea surface tempe...\n",
       "    institution:                Met Office Hadley Centre\n",
       "    source:                     HadISST\n",
       "    reference:                  Rayner, N. A., Parker, D. E., Horton, E. B., ...\n",
       "    Conventions:                CF-1.0\n",
       "    history:                    8/1/2021 converted to netcdf from pp format\n",
       "    supplementary_information:  Updates and supplementary information will be...\n",
       "    comment:                    Data restrictions: for academic research use ...</pre>"
      ],
      "text/plain": [
       "<xarray.Dataset>\n",
       "Dimensions:    (latitude: 180, longitude: 360, nv: 2, time: 1811)\n",
       "Coordinates:\n",
       "  * time       (time) datetime64[ns] 1870-01-16T11:59:59.505615234 ... 2020-1...\n",
       "  * latitude   (latitude) float32 89.5 88.5 87.5 86.5 ... -87.5 -88.5 -89.5\n",
       "  * longitude  (longitude) float32 -179.5 -178.5 -177.5 ... 177.5 178.5 179.5\n",
       "Dimensions without coordinates: nv\n",
       "Data variables:\n",
       "    time_bnds  (time, nv) float32 ...\n",
       "    sst        (time, latitude, longitude) float32 ...\n",
       "Attributes:\n",
       "    Title:                      Monthly version of HadISST sea surface temper...\n",
       "    description:                HadISST 1.1 monthly average sea surface tempe...\n",
       "    institution:                Met Office Hadley Centre\n",
       "    source:                     HadISST\n",
       "    reference:                  Rayner, N. A., Parker, D. E., Horton, E. B., ...\n",
       "    Conventions:                CF-1.0\n",
       "    history:                    8/1/2021 converted to netcdf from pp format\n",
       "    supplementary_information:  Updates and supplementary information will be...\n",
       "    comment:                    Data restrictions: for academic research use ..."
      ]
     },
     "execution_count": 21,
     "metadata": {},
     "output_type": "execute_result"
    }
   ],
   "source": [
    "fileName = 'HadISST_sst.nc'\n",
    "sstdata = xr.open_dataset(fileName)\n",
    "sstdata"
   ]
  },
  {
   "cell_type": "code",
   "execution_count": 22,
   "metadata": {},
   "outputs": [
    {
     "data": {
      "text/plain": [
       "Frozen(SortedKeysDict({'time': 1811, 'nv': 2, 'latitude': 180, 'longitude': 360}))"
      ]
     },
     "execution_count": 22,
     "metadata": {},
     "output_type": "execute_result"
    }
   ],
   "source": [
    "sstdata.dims"
   ]
  },
  {
   "cell_type": "markdown",
   "metadata": {},
   "source": [
    "Let's find SST of the first time period in the dataset (Jan 1870 or the 0th value of the time dimension) over the entire Earth or all the latitude and longitude values. \n",
    "\n",
    "This follows the same syntax as the 2D data we just worked with but now you have 3 dimensions!"
   ]
  },
  {
   "cell_type": "code",
   "execution_count": 23,
   "metadata": {},
   "outputs": [
    {
     "data": {
      "text/html": [
       "<pre>&lt;xarray.DataArray &#x27;sst&#x27; (latitude: 180, longitude: 360)&gt;\n",
       "array([[-1000., -1000., -1000., ..., -1000., -1000., -1000.],\n",
       "       [-1000., -1000., -1000., ..., -1000., -1000., -1000.],\n",
       "       [-1000., -1000., -1000., ..., -1000., -1000., -1000.],\n",
       "       ...,\n",
       "       [   nan,    nan,    nan, ...,    nan,    nan,    nan],\n",
       "       [   nan,    nan,    nan, ...,    nan,    nan,    nan],\n",
       "       [   nan,    nan,    nan, ...,    nan,    nan,    nan]], dtype=float32)\n",
       "Coordinates:\n",
       "    time       datetime64[ns] 1870-01-16T11:59:59.505615234\n",
       "  * latitude   (latitude) float32 89.5 88.5 87.5 86.5 ... -87.5 -88.5 -89.5\n",
       "  * longitude  (longitude) float32 -179.5 -178.5 -177.5 ... 177.5 178.5 179.5\n",
       "Attributes:\n",
       "    standard_name:  sea_surface_temperature\n",
       "    long_name:      sst\n",
       "    units:          C\n",
       "    cell_methods:   time: lat: lon: mean</pre>"
      ],
      "text/plain": [
       "<xarray.DataArray 'sst' (latitude: 180, longitude: 360)>\n",
       "array([[-1000., -1000., -1000., ..., -1000., -1000., -1000.],\n",
       "       [-1000., -1000., -1000., ..., -1000., -1000., -1000.],\n",
       "       [-1000., -1000., -1000., ..., -1000., -1000., -1000.],\n",
       "       ...,\n",
       "       [   nan,    nan,    nan, ...,    nan,    nan,    nan],\n",
       "       [   nan,    nan,    nan, ...,    nan,    nan,    nan],\n",
       "       [   nan,    nan,    nan, ...,    nan,    nan,    nan]], dtype=float32)\n",
       "Coordinates:\n",
       "    time       datetime64[ns] 1870-01-16T11:59:59.505615234\n",
       "  * latitude   (latitude) float32 89.5 88.5 87.5 86.5 ... -87.5 -88.5 -89.5\n",
       "  * longitude  (longitude) float32 -179.5 -178.5 -177.5 ... 177.5 178.5 179.5\n",
       "Attributes:\n",
       "    standard_name:  sea_surface_temperature\n",
       "    long_name:      sst\n",
       "    units:          C\n",
       "    cell_methods:   time: lat: lon: mean"
      ]
     },
     "execution_count": 23,
     "metadata": {},
     "output_type": "execute_result"
    }
   ],
   "source": [
    "sst[0,:,:]"
   ]
  },
  {
   "cell_type": "markdown",
   "metadata": {},
   "source": [
    "Find the data for the first time period and the 89th and 90th latitude value. This is all the Jan 1870 temperature data along the equator. "
   ]
  },
  {
   "cell_type": "code",
   "execution_count": 24,
   "metadata": {},
   "outputs": [
    {
     "data": {
      "text/html": [
       "<pre>&lt;xarray.DataArray &#x27;sst&#x27; (latitude: 11, longitude: 360)&gt;\n",
       "array([[27.681282, 27.658577, 27.627037, ..., 27.756725, 27.694794, 27.677406],\n",
       "       [27.959736, 27.94817 , 27.908386, ..., 27.990795, 27.929464, 27.927494],\n",
       "       [28.142876, 28.143713, 28.11149 , ..., 28.188877, 28.114115, 28.104458],\n",
       "       ...,\n",
       "       [27.991665, 27.92338 , 27.878113, ..., 28.2034  , 28.163742, 28.096989],\n",
       "       [28.010279, 27.919828, 27.86462 , ..., 28.264671, 28.230558, 28.148249],\n",
       "       [28.118744, 28.015932, 27.965162, ..., 28.41475 , 28.378357, 28.278654]],\n",
       "      dtype=float32)\n",
       "Coordinates:\n",
       "    time       datetime64[ns] 1870-01-16T11:59:59.505615234\n",
       "  * latitude   (latitude) float32 9.5 8.5 7.5 6.5 5.5 4.5 3.5 2.5 1.5 0.5 -0.5\n",
       "  * longitude  (longitude) float32 -179.5 -178.5 -177.5 ... 177.5 178.5 179.5\n",
       "Attributes:\n",
       "    standard_name:  sea_surface_temperature\n",
       "    long_name:      sst\n",
       "    units:          C\n",
       "    cell_methods:   time: lat: lon: mean</pre>"
      ],
      "text/plain": [
       "<xarray.DataArray 'sst' (latitude: 11, longitude: 360)>\n",
       "array([[27.681282, 27.658577, 27.627037, ..., 27.756725, 27.694794, 27.677406],\n",
       "       [27.959736, 27.94817 , 27.908386, ..., 27.990795, 27.929464, 27.927494],\n",
       "       [28.142876, 28.143713, 28.11149 , ..., 28.188877, 28.114115, 28.104458],\n",
       "       ...,\n",
       "       [27.991665, 27.92338 , 27.878113, ..., 28.2034  , 28.163742, 28.096989],\n",
       "       [28.010279, 27.919828, 27.86462 , ..., 28.264671, 28.230558, 28.148249],\n",
       "       [28.118744, 28.015932, 27.965162, ..., 28.41475 , 28.378357, 28.278654]],\n",
       "      dtype=float32)\n",
       "Coordinates:\n",
       "    time       datetime64[ns] 1870-01-16T11:59:59.505615234\n",
       "  * latitude   (latitude) float32 9.5 8.5 7.5 6.5 5.5 4.5 3.5 2.5 1.5 0.5 -0.5\n",
       "  * longitude  (longitude) float32 -179.5 -178.5 -177.5 ... 177.5 178.5 179.5\n",
       "Attributes:\n",
       "    standard_name:  sea_surface_temperature\n",
       "    long_name:      sst\n",
       "    units:          C\n",
       "    cell_methods:   time: lat: lon: mean"
      ]
     },
     "execution_count": 24,
     "metadata": {},
     "output_type": "execute_result"
    }
   ],
   "source": [
    "sst[0,80:91,:]"
   ]
  },
  {
   "cell_type": "markdown",
   "metadata": {},
   "source": [
    "Figuring out what coordinates these index values correspond to can be tricky. xarray makes this easier with the `loc[]` method where you can specify the range of the actual coordinate values you want. The latitude values that come closest to the equator are 0.5N (0.5) and 0.5S (-0.5).\n",
    "\n",
    "Using `loc[]`, the result above would be:"
   ]
  },
  {
   "cell_type": "code",
   "execution_count": 25,
   "metadata": {},
   "outputs": [
    {
     "data": {
      "text/html": [
       "<pre>&lt;xarray.DataArray &#x27;sst&#x27; (latitude: 2, longitude: 360)&gt;\n",
       "array([[28.010279, 27.919828, 27.86462 , ..., 28.264671, 28.230558, 28.148249],\n",
       "       [28.118744, 28.015932, 27.965162, ..., 28.41475 , 28.378357, 28.278654]],\n",
       "      dtype=float32)\n",
       "Coordinates:\n",
       "    time       datetime64[ns] 1870-01-16T11:59:59.505615234\n",
       "  * latitude   (latitude) float32 0.5 -0.5\n",
       "  * longitude  (longitude) float32 -179.5 -178.5 -177.5 ... 177.5 178.5 179.5\n",
       "Attributes:\n",
       "    standard_name:  sea_surface_temperature\n",
       "    long_name:      sst\n",
       "    units:          C\n",
       "    cell_methods:   time: lat: lon: mean</pre>"
      ],
      "text/plain": [
       "<xarray.DataArray 'sst' (latitude: 2, longitude: 360)>\n",
       "array([[28.010279, 27.919828, 27.86462 , ..., 28.264671, 28.230558, 28.148249],\n",
       "       [28.118744, 28.015932, 27.965162, ..., 28.41475 , 28.378357, 28.278654]],\n",
       "      dtype=float32)\n",
       "Coordinates:\n",
       "    time       datetime64[ns] 1870-01-16T11:59:59.505615234\n",
       "  * latitude   (latitude) float32 0.5 -0.5\n",
       "  * longitude  (longitude) float32 -179.5 -178.5 -177.5 ... 177.5 178.5 179.5\n",
       "Attributes:\n",
       "    standard_name:  sea_surface_temperature\n",
       "    long_name:      sst\n",
       "    units:          C\n",
       "    cell_methods:   time: lat: lon: mean"
      ]
     },
     "execution_count": 25,
     "metadata": {},
     "output_type": "execute_result"
    }
   ],
   "source": [
    "sst.loc['1870-01-16T11:59:59.505615234',0.5:-0.5,:] #the latitude values go from positive to negative or North to South"
   ]
  },
  {
   "cell_type": "code",
   "execution_count": 26,
   "metadata": {},
   "outputs": [
    {
     "data": {
      "text/html": [
       "<pre>&lt;xarray.DataArray &#x27;sst&#x27; (time: 1, latitude: 2, longitude: 360)&gt;\n",
       "array([[[28.010279, 27.919828, ..., 28.230558, 28.148249],\n",
       "        [28.118744, 28.015932, ..., 28.378357, 28.278654]]], dtype=float32)\n",
       "Coordinates:\n",
       "  * time       (time) datetime64[ns] 1870-01-16T11:59:59.505615234\n",
       "  * latitude   (latitude) float32 0.5 -0.5\n",
       "  * longitude  (longitude) float32 -179.5 -178.5 -177.5 ... 177.5 178.5 179.5\n",
       "Attributes:\n",
       "    standard_name:  sea_surface_temperature\n",
       "    long_name:      sst\n",
       "    units:          C\n",
       "    cell_methods:   time: lat: lon: mean</pre>"
      ],
      "text/plain": [
       "<xarray.DataArray 'sst' (time: 1, latitude: 2, longitude: 360)>\n",
       "array([[[28.010279, 27.919828, ..., 28.230558, 28.148249],\n",
       "        [28.118744, 28.015932, ..., 28.378357, 28.278654]]], dtype=float32)\n",
       "Coordinates:\n",
       "  * time       (time) datetime64[ns] 1870-01-16T11:59:59.505615234\n",
       "  * latitude   (latitude) float32 0.5 -0.5\n",
       "  * longitude  (longitude) float32 -179.5 -178.5 -177.5 ... 177.5 178.5 179.5\n",
       "Attributes:\n",
       "    standard_name:  sea_surface_temperature\n",
       "    long_name:      sst\n",
       "    units:          C\n",
       "    cell_methods:   time: lat: lon: mean"
      ]
     },
     "execution_count": 26,
     "metadata": {},
     "output_type": "execute_result"
    }
   ],
   "source": [
    "#or even (making use of the powerful time indexing)\n",
    "sst.loc['1870-01',0.5:-0.5,:]"
   ]
  },
  {
   "cell_type": "markdown",
   "metadata": {},
   "source": [
    "What about all temperature values along the equator for the year 1870?"
   ]
  },
  {
   "cell_type": "code",
   "execution_count": null,
   "metadata": {},
   "outputs": [],
   "source": [
    "sst"
   ]
  },
  {
   "cell_type": "markdown",
   "metadata": {},
   "source": [
    "Since we're studying the impact of the North Atlantic Oscillation on the ocean, we want to identify a good region to conduct our data analysis of ocean temperature over. What might that be?\n",
    "\n",
    "Find the SST for this region."
   ]
  },
  {
   "cell_type": "code",
   "execution_count": null,
   "metadata": {},
   "outputs": [],
   "source": []
  },
  {
   "cell_type": "markdown",
   "metadata": {},
   "source": [
    "### Masking on xarray\n",
    "\n",
    "You might have noticed that parts of the SST data are marked with NaN (or Not a Number). These are the Earth's land masses; the regions generally whited out on a plot of the data. This data is **masked**.\n",
    "\n",
    "We can create our own masks using the `where` method. Here, rather than specifying a range of values to index over, you specify a condition your data must meet. For example, all temperature values not equal to 30&deg;C.\n",
    "\n",
    "Python conditions\n",
    "* equals: `a == b`\n",
    "* not equals: `a != b`\n",
    "* less than: `a < b`\n",
    "* less than or equal to: `a <= b`\n",
    "* greater than: `a > b`\n",
    "* greater than or equal to: `a >= b`"
   ]
  },
  {
   "cell_type": "code",
   "execution_count": 34,
   "metadata": {},
   "outputs": [
    {
     "data": {
      "text/html": [
       "<pre>&lt;xarray.DataArray &#x27;sst&#x27; (time: 1811, latitude: 180, longitude: 360)&gt;\n",
       "array([[[-1000. , -1000. , -1000. , ..., -1000. , -1000. , -1000. ],\n",
       "        [-1000. , -1000. , -1000. , ..., -1000. , -1000. , -1000. ],\n",
       "        [-1000. , -1000. , -1000. , ..., -1000. , -1000. , -1000. ],\n",
       "        ...,\n",
       "        [    nan,     nan,     nan, ...,     nan,     nan,     nan],\n",
       "        [    nan,     nan,     nan, ...,     nan,     nan,     nan],\n",
       "        [    nan,     nan,     nan, ...,     nan,     nan,     nan]],\n",
       "\n",
       "       [[-1000. , -1000. , -1000. , ..., -1000. , -1000. , -1000. ],\n",
       "        [-1000. , -1000. , -1000. , ..., -1000. , -1000. , -1000. ],\n",
       "        [-1000. , -1000. , -1000. , ..., -1000. , -1000. , -1000. ],\n",
       "        ...,\n",
       "        [    nan,     nan,     nan, ...,     nan,     nan,     nan],\n",
       "        [    nan,     nan,     nan, ...,     nan,     nan,     nan],\n",
       "        [    nan,     nan,     nan, ...,     nan,     nan,     nan]],\n",
       "\n",
       "       [[-1000. , -1000. , -1000. , ..., -1000. , -1000. , -1000. ],\n",
       "        [-1000. , -1000. , -1000. , ..., -1000. , -1000. , -1000. ],\n",
       "        [-1000. , -1000. , -1000. , ..., -1000. , -1000. , -1000. ],\n",
       "        ...,\n",
       "...\n",
       "        [    nan,     nan,     nan, ...,     nan,     nan,     nan],\n",
       "        [    nan,     nan,     nan, ...,     nan,     nan,     nan],\n",
       "        [    nan,     nan,     nan, ...,     nan,     nan,     nan]],\n",
       "\n",
       "       [[   -1.8,    -1.8,    -1.8, ...,    -1.8,    -1.8,    -1.8],\n",
       "        [   -1.8,    -1.8,    -1.8, ...,    -1.8,    -1.8,    -1.8],\n",
       "        [   -1.8,    -1.8,    -1.8, ...,    -1.8,    -1.8,    -1.8],\n",
       "        ...,\n",
       "        [    nan,     nan,     nan, ...,     nan,     nan,     nan],\n",
       "        [    nan,     nan,     nan, ...,     nan,     nan,     nan],\n",
       "        [    nan,     nan,     nan, ...,     nan,     nan,     nan]],\n",
       "\n",
       "       [[   -1.8,    -1.8,    -1.8, ...,    -1.8,    -1.8,    -1.8],\n",
       "        [   -1.8,    -1.8,    -1.8, ...,    -1.8,    -1.8,    -1.8],\n",
       "        [   -1.8,    -1.8,    -1.8, ...,    -1.8,    -1.8,    -1.8],\n",
       "        ...,\n",
       "        [    nan,     nan,     nan, ...,     nan,     nan,     nan],\n",
       "        [    nan,     nan,     nan, ...,     nan,     nan,     nan],\n",
       "        [    nan,     nan,     nan, ...,     nan,     nan,     nan]]],\n",
       "      dtype=float32)\n",
       "Coordinates:\n",
       "  * time       (time) datetime64[ns] 1870-01-16T11:59:59.505615234 ... 2020-1...\n",
       "  * latitude   (latitude) float32 89.5 88.5 87.5 86.5 ... -87.5 -88.5 -89.5\n",
       "  * longitude  (longitude) float32 -179.5 -178.5 -177.5 ... 177.5 178.5 179.5\n",
       "Attributes:\n",
       "    standard_name:  sea_surface_temperature\n",
       "    long_name:      sst\n",
       "    units:          C\n",
       "    cell_methods:   time: lat: lon: mean</pre>"
      ],
      "text/plain": [
       "<xarray.DataArray 'sst' (time: 1811, latitude: 180, longitude: 360)>\n",
       "array([[[-1000. , -1000. , -1000. , ..., -1000. , -1000. , -1000. ],\n",
       "        [-1000. , -1000. , -1000. , ..., -1000. , -1000. , -1000. ],\n",
       "        [-1000. , -1000. , -1000. , ..., -1000. , -1000. , -1000. ],\n",
       "        ...,\n",
       "        [    nan,     nan,     nan, ...,     nan,     nan,     nan],\n",
       "        [    nan,     nan,     nan, ...,     nan,     nan,     nan],\n",
       "        [    nan,     nan,     nan, ...,     nan,     nan,     nan]],\n",
       "\n",
       "       [[-1000. , -1000. , -1000. , ..., -1000. , -1000. , -1000. ],\n",
       "        [-1000. , -1000. , -1000. , ..., -1000. , -1000. , -1000. ],\n",
       "        [-1000. , -1000. , -1000. , ..., -1000. , -1000. , -1000. ],\n",
       "        ...,\n",
       "        [    nan,     nan,     nan, ...,     nan,     nan,     nan],\n",
       "        [    nan,     nan,     nan, ...,     nan,     nan,     nan],\n",
       "        [    nan,     nan,     nan, ...,     nan,     nan,     nan]],\n",
       "\n",
       "       [[-1000. , -1000. , -1000. , ..., -1000. , -1000. , -1000. ],\n",
       "        [-1000. , -1000. , -1000. , ..., -1000. , -1000. , -1000. ],\n",
       "        [-1000. , -1000. , -1000. , ..., -1000. , -1000. , -1000. ],\n",
       "        ...,\n",
       "...\n",
       "        [    nan,     nan,     nan, ...,     nan,     nan,     nan],\n",
       "        [    nan,     nan,     nan, ...,     nan,     nan,     nan],\n",
       "        [    nan,     nan,     nan, ...,     nan,     nan,     nan]],\n",
       "\n",
       "       [[   -1.8,    -1.8,    -1.8, ...,    -1.8,    -1.8,    -1.8],\n",
       "        [   -1.8,    -1.8,    -1.8, ...,    -1.8,    -1.8,    -1.8],\n",
       "        [   -1.8,    -1.8,    -1.8, ...,    -1.8,    -1.8,    -1.8],\n",
       "        ...,\n",
       "        [    nan,     nan,     nan, ...,     nan,     nan,     nan],\n",
       "        [    nan,     nan,     nan, ...,     nan,     nan,     nan],\n",
       "        [    nan,     nan,     nan, ...,     nan,     nan,     nan]],\n",
       "\n",
       "       [[   -1.8,    -1.8,    -1.8, ...,    -1.8,    -1.8,    -1.8],\n",
       "        [   -1.8,    -1.8,    -1.8, ...,    -1.8,    -1.8,    -1.8],\n",
       "        [   -1.8,    -1.8,    -1.8, ...,    -1.8,    -1.8,    -1.8],\n",
       "        ...,\n",
       "        [    nan,     nan,     nan, ...,     nan,     nan,     nan],\n",
       "        [    nan,     nan,     nan, ...,     nan,     nan,     nan],\n",
       "        [    nan,     nan,     nan, ...,     nan,     nan,     nan]]],\n",
       "      dtype=float32)\n",
       "Coordinates:\n",
       "  * time       (time) datetime64[ns] 1870-01-16T11:59:59.505615234 ... 2020-1...\n",
       "  * latitude   (latitude) float32 89.5 88.5 87.5 86.5 ... -87.5 -88.5 -89.5\n",
       "  * longitude  (longitude) float32 -179.5 -178.5 -177.5 ... 177.5 178.5 179.5\n",
       "Attributes:\n",
       "    standard_name:  sea_surface_temperature\n",
       "    long_name:      sst\n",
       "    units:          C\n",
       "    cell_methods:   time: lat: lon: mean"
      ]
     },
     "execution_count": 34,
     "metadata": {},
     "output_type": "execute_result"
    }
   ],
   "source": [
    "sst.where(sst != 30)"
   ]
  },
  {
   "cell_type": "markdown",
   "metadata": {},
   "source": [
    "Find all the SST values less than or equal 0&deg;C"
   ]
  },
  {
   "cell_type": "code",
   "execution_count": 35,
   "metadata": {},
   "outputs": [
    {
     "data": {
      "text/html": [
       "<pre>&lt;xarray.DataArray &#x27;sst&#x27; (time: 1811, latitude: 180, longitude: 360)&gt;\n",
       "array([[[nan, nan, nan, ..., nan, nan, nan],\n",
       "        [nan, nan, nan, ..., nan, nan, nan],\n",
       "        [nan, nan, nan, ..., nan, nan, nan],\n",
       "        ...,\n",
       "        [nan, nan, nan, ..., nan, nan, nan],\n",
       "        [nan, nan, nan, ..., nan, nan, nan],\n",
       "        [nan, nan, nan, ..., nan, nan, nan]],\n",
       "\n",
       "       [[nan, nan, nan, ..., nan, nan, nan],\n",
       "        [nan, nan, nan, ..., nan, nan, nan],\n",
       "        [nan, nan, nan, ..., nan, nan, nan],\n",
       "        ...,\n",
       "        [nan, nan, nan, ..., nan, nan, nan],\n",
       "        [nan, nan, nan, ..., nan, nan, nan],\n",
       "        [nan, nan, nan, ..., nan, nan, nan]],\n",
       "\n",
       "       [[nan, nan, nan, ..., nan, nan, nan],\n",
       "        [nan, nan, nan, ..., nan, nan, nan],\n",
       "        [nan, nan, nan, ..., nan, nan, nan],\n",
       "        ...,\n",
       "...\n",
       "        ...,\n",
       "        [nan, nan, nan, ..., nan, nan, nan],\n",
       "        [nan, nan, nan, ..., nan, nan, nan],\n",
       "        [nan, nan, nan, ..., nan, nan, nan]],\n",
       "\n",
       "       [[nan, nan, nan, ..., nan, nan, nan],\n",
       "        [nan, nan, nan, ..., nan, nan, nan],\n",
       "        [nan, nan, nan, ..., nan, nan, nan],\n",
       "        ...,\n",
       "        [nan, nan, nan, ..., nan, nan, nan],\n",
       "        [nan, nan, nan, ..., nan, nan, nan],\n",
       "        [nan, nan, nan, ..., nan, nan, nan]],\n",
       "\n",
       "       [[nan, nan, nan, ..., nan, nan, nan],\n",
       "        [nan, nan, nan, ..., nan, nan, nan],\n",
       "        [nan, nan, nan, ..., nan, nan, nan],\n",
       "        ...,\n",
       "        [nan, nan, nan, ..., nan, nan, nan],\n",
       "        [nan, nan, nan, ..., nan, nan, nan],\n",
       "        [nan, nan, nan, ..., nan, nan, nan]]], dtype=float32)\n",
       "Coordinates:\n",
       "  * time       (time) datetime64[ns] 1870-01-16T11:59:59.505615234 ... 2020-1...\n",
       "  * latitude   (latitude) float32 89.5 88.5 87.5 86.5 ... -87.5 -88.5 -89.5\n",
       "  * longitude  (longitude) float32 -179.5 -178.5 -177.5 ... 177.5 178.5 179.5\n",
       "Attributes:\n",
       "    standard_name:  sea_surface_temperature\n",
       "    long_name:      sst\n",
       "    units:          C\n",
       "    cell_methods:   time: lat: lon: mean</pre>"
      ],
      "text/plain": [
       "<xarray.DataArray 'sst' (time: 1811, latitude: 180, longitude: 360)>\n",
       "array([[[nan, nan, nan, ..., nan, nan, nan],\n",
       "        [nan, nan, nan, ..., nan, nan, nan],\n",
       "        [nan, nan, nan, ..., nan, nan, nan],\n",
       "        ...,\n",
       "        [nan, nan, nan, ..., nan, nan, nan],\n",
       "        [nan, nan, nan, ..., nan, nan, nan],\n",
       "        [nan, nan, nan, ..., nan, nan, nan]],\n",
       "\n",
       "       [[nan, nan, nan, ..., nan, nan, nan],\n",
       "        [nan, nan, nan, ..., nan, nan, nan],\n",
       "        [nan, nan, nan, ..., nan, nan, nan],\n",
       "        ...,\n",
       "        [nan, nan, nan, ..., nan, nan, nan],\n",
       "        [nan, nan, nan, ..., nan, nan, nan],\n",
       "        [nan, nan, nan, ..., nan, nan, nan]],\n",
       "\n",
       "       [[nan, nan, nan, ..., nan, nan, nan],\n",
       "        [nan, nan, nan, ..., nan, nan, nan],\n",
       "        [nan, nan, nan, ..., nan, nan, nan],\n",
       "        ...,\n",
       "...\n",
       "        ...,\n",
       "        [nan, nan, nan, ..., nan, nan, nan],\n",
       "        [nan, nan, nan, ..., nan, nan, nan],\n",
       "        [nan, nan, nan, ..., nan, nan, nan]],\n",
       "\n",
       "       [[nan, nan, nan, ..., nan, nan, nan],\n",
       "        [nan, nan, nan, ..., nan, nan, nan],\n",
       "        [nan, nan, nan, ..., nan, nan, nan],\n",
       "        ...,\n",
       "        [nan, nan, nan, ..., nan, nan, nan],\n",
       "        [nan, nan, nan, ..., nan, nan, nan],\n",
       "        [nan, nan, nan, ..., nan, nan, nan]],\n",
       "\n",
       "       [[nan, nan, nan, ..., nan, nan, nan],\n",
       "        [nan, nan, nan, ..., nan, nan, nan],\n",
       "        [nan, nan, nan, ..., nan, nan, nan],\n",
       "        ...,\n",
       "        [nan, nan, nan, ..., nan, nan, nan],\n",
       "        [nan, nan, nan, ..., nan, nan, nan],\n",
       "        [nan, nan, nan, ..., nan, nan, nan]]], dtype=float32)\n",
       "Coordinates:\n",
       "  * time       (time) datetime64[ns] 1870-01-16T11:59:59.505615234 ... 2020-1...\n",
       "  * latitude   (latitude) float32 89.5 88.5 87.5 86.5 ... -87.5 -88.5 -89.5\n",
       "  * longitude  (longitude) float32 -179.5 -178.5 -177.5 ... 177.5 178.5 179.5\n",
       "Attributes:\n",
       "    standard_name:  sea_surface_temperature\n",
       "    long_name:      sst\n",
       "    units:          C\n",
       "    cell_methods:   time: lat: lon: mean"
      ]
     },
     "execution_count": 35,
     "metadata": {},
     "output_type": "execute_result"
    }
   ],
   "source": [
    "sst.where(sst >= 0)"
   ]
  },
  {
   "cell_type": "code",
   "execution_count": 36,
   "metadata": {},
   "outputs": [
    {
     "data": {
      "text/html": [
       "<pre>&lt;xarray.DataArray &#x27;sst&#x27; (latitude: 180, longitude: 360)&gt;\n",
       "array([[-803.22327, -742.04224, -742.04224, ..., -799.916  , -800.4672 ,\n",
       "        -800.4672 ],\n",
       "       [-621.3359 , -621.8871 , -624.643  , ..., -620.78467, -619.6824 ,\n",
       "        -620.7847 ],\n",
       "       [-465.90424, -528.1882 , -533.7    , ..., -467.55777, -530.9441 ,\n",
       "        -473.62076],\n",
       "       ...,\n",
       "       [       nan,        nan,        nan, ...,        nan,        nan,\n",
       "               nan],\n",
       "       [       nan,        nan,        nan, ...,        nan,        nan,\n",
       "               nan],\n",
       "       [       nan,        nan,        nan, ...,        nan,        nan,\n",
       "               nan]], dtype=float32)\n",
       "Coordinates:\n",
       "  * latitude   (latitude) float32 89.5 88.5 87.5 86.5 ... -87.5 -88.5 -89.5\n",
       "  * longitude  (longitude) float32 -179.5 -178.5 -177.5 ... 177.5 178.5 179.5</pre>"
      ],
      "text/plain": [
       "<xarray.DataArray 'sst' (latitude: 180, longitude: 360)>\n",
       "array([[-803.22327, -742.04224, -742.04224, ..., -799.916  , -800.4672 ,\n",
       "        -800.4672 ],\n",
       "       [-621.3359 , -621.8871 , -624.643  , ..., -620.78467, -619.6824 ,\n",
       "        -620.7847 ],\n",
       "       [-465.90424, -528.1882 , -533.7    , ..., -467.55777, -530.9441 ,\n",
       "        -473.62076],\n",
       "       ...,\n",
       "       [       nan,        nan,        nan, ...,        nan,        nan,\n",
       "               nan],\n",
       "       [       nan,        nan,        nan, ...,        nan,        nan,\n",
       "               nan],\n",
       "       [       nan,        nan,        nan, ...,        nan,        nan,\n",
       "               nan]], dtype=float32)\n",
       "Coordinates:\n",
       "  * latitude   (latitude) float32 89.5 88.5 87.5 86.5 ... -87.5 -88.5 -89.5\n",
       "  * longitude  (longitude) float32 -179.5 -178.5 -177.5 ... 177.5 178.5 179.5"
      ]
     },
     "execution_count": 36,
     "metadata": {},
     "output_type": "execute_result"
    }
   ],
   "source": [
    "sst.mean(dim = \"time\")"
   ]
  },
  {
   "cell_type": "markdown",
   "metadata": {},
   "source": [
    "Plot the mean of this masked SST data using a contour plot"
   ]
  },
  {
   "cell_type": "code",
   "execution_count": 49,
   "metadata": {},
   "outputs": [
    {
     "data": {
      "image/png": "[encoded data removed]",
      "text/plain": [
       "<Figure size 432x288 with 2 Axes>"
      ]
     },
     "metadata": {
      "needs_background": "light"
     },
     "output_type": "display_data"
    }
   ],
   "source": [
    "plt.figure()\n",
    "plt.contourf(sst.longitude,sst.latitude,sst.where(sst >= 0).mean(dim=\"time\"), cmap= \"cool\")\n",
    "plt.colorbar(label = 'temperature')\n",
    "plt.xlabel('longitude')\n",
    "plt.ylabel('latitude')\n",
    "plt.show()"
   ]
  },
  {
   "cell_type": "markdown",
   "metadata": {},
   "source": [
    "### Challenge\n",
    "\n",
    "Plot the mean SST for the Northern Hemisphere.\n",
    "\n",
    "*Hint*: You can set your conditions for SST based on your latitude values"
   ]
  },
  {
   "cell_type": "code",
   "execution_count": null,
   "metadata": {},
   "outputs": [],
   "source": []
  },
  {
   "cell_type": "code",
   "execution_count": 53,
   "metadata": {},
   "outputs": [],
   "source": [
    "#masking everything excpt atlantic ocean and later sea ice\n",
    "atlantic1 = sst.where(sst.longitude <= 50)\n",
    "atlantic2 = atlantic1.where(atlantic1.longitude >=-100)"
   ]
  },
  {
   "cell_type": "code",
   "execution_count": 59,
   "metadata": {},
   "outputs": [
    {
     "data": {
      "image/png": "[encoded data removed]",
      "text/plain": [
       "<Figure size 1440x720 with 2 Axes>"
      ]
     },
     "metadata": {
      "needs_background": "light"
     },
     "output_type": "display_data"
    }
   ],
   "source": [
    "plt.figure(figsize = (20,10))\n",
    "plt.contourf(atlantic2.longitude,atlantic2.latitude,atlantic2.where(sst >=0).mean(dim=\"time\"), cmap = \"cool\")\n",
    "plt.title(\"The Atlantic\")\n",
    "plt.colorbar(label = 'temperature')\n",
    "plt.xlabel('longitude')\n",
    "plt.ylabel('latitude')\n",
    "plt.show()"
   ]
  },
  {
   "cell_type": "code",
   "execution_count": 65,
   "metadata": {},
   "outputs": [],
   "source": [
    "#mask sea ice\n",
    "seaice = sst.where(sst >= -5)"
   ]
  },
  {
   "cell_type": "code",
   "execution_count": 66,
   "metadata": {},
   "outputs": [
    {
     "data": {
      "image/png": "[encoded data removed]",
      "text/plain": [
       "<Figure size 432x288 with 2 Axes>"
      ]
     },
     "metadata": {
      "needs_background": "light"
     },
     "output_type": "display_data"
    }
   ],
   "source": [
    "plt.figure()\n",
    "plt.contourf(sst.longitude,sst.latitude,sst.where(sst >= -5).mean(dim=\"time\"), cmap= \"cool\")\n",
    "plt.colorbar(label = 'temperature')\n",
    "plt.xlabel('longitude')\n",
    "plt.ylabel('latitude')\n",
    "plt.show()"
   ]
  },
  {
   "cell_type": "code",
   "execution_count": 60,
   "metadata": {},
   "outputs": [
    {
     "data": {
      "text/plain": [
       "('time', 'latitude', 'longitude')"
      ]
     },
     "execution_count": 60,
     "metadata": {},
     "output_type": "execute_result"
    }
   ],
   "source": [
    "sst.dims"
   ]
  },
  {
   "cell_type": "code",
   "execution_count": null,
   "metadata": {},
   "outputs": [],
   "source": []
  }
 ],
 "metadata": {
  "kernelspec": {
   "display_name": "Python 3",
   "language": "python",
   "name": "python3"
  },
  "language_info": {
   "codemirror_mode": {
    "name": "ipython",
    "version": 3
   },
   "file_extension": ".py",
   "mimetype": "text/x-python",
   "name": "python",
   "nbconvert_exporter": "python",
   "pygments_lexer": "ipython3",
   "version": "3.8.3"
  }
 },
 "nbformat": 4,
 "nbformat_minor": 4
}
