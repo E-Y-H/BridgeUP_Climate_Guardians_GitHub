{
 "cells": [
  {
   "cell_type": "markdown",
   "metadata": {},
   "source": [
    "# Multidimensional arrays"
   ]
  },
  {
   "cell_type": "markdown",
   "metadata": {},
   "source": [
    "Both the datasets we've worked with (NAO Index and NY Temperature) only have one dimension - time. The ocean temperature dataset we'll be working with is three-dimensional since it depends on time, latitude and longitude. \n",
    "\n",
    "This is a helpful example of a three-dimensional dataset: https://climate.nasa.gov/climate_resources/139/video-global-warming-from-1880-to-2019/\n",
    "\n",
    "xarray saves data as NumPy arrays because they are lot more useful when analyzing multidimensional data. Let's look at some handy NumPy funtions."
   ]
  },
  {
   "cell_type": "code",
   "execution_count": null,
   "metadata": {},
   "outputs": [],
   "source": [
    "import numpy as np\n",
    "import matplotlib.pyplot as plt\n",
    "from mpl_toolkits import mplot3d"
   ]
  },
  {
   "cell_type": "markdown",
   "metadata": {},
   "source": [
    "Create a list of numbers from -10 to 10. It's pretty easy to do this manually but think of a way to do this with code."
   ]
  },
  {
   "cell_type": "code",
   "execution_count": null,
   "metadata": {},
   "outputs": [],
   "source": [
    "x = []"
   ]
  },
  {
   "cell_type": "markdown",
   "metadata": {},
   "source": [
    "Convert this to a NumPy array. \n",
    "\n",
    "`np.array(list)`: convert list to NumPy array"
   ]
  },
  {
   "cell_type": "code",
   "execution_count": null,
   "metadata": {},
   "outputs": [],
   "source": [
    "x = np.array(x)\n",
    "x"
   ]
  },
  {
   "cell_type": "markdown",
   "metadata": {},
   "source": [
    "### One-dimensional data\n",
    "\n",
    "Find the square of each number in the array."
   ]
  },
  {
   "cell_type": "code",
   "execution_count": null,
   "metadata": {},
   "outputs": [],
   "source": [
    "print(x + 2)\n",
    "print(x * 2)"
   ]
  },
  {
   "cell_type": "code",
   "execution_count": null,
   "metadata": {},
   "outputs": [],
   "source": [
<<<<<<< HEAD
    "data = x ** 2\n",
    "data"
=======
    "data = []"
>>>>>>> 03042b8b43e417f61a38e9309c7a82eb8add1119
   ]
  },
  {
   "cell_type": "markdown",
   "metadata": {},
   "source": [
    "Plot x against data"
   ]
  },
  {
   "cell_type": "code",
   "execution_count": null,
   "metadata": {},
<<<<<<< HEAD
   "outputs": [
    {
     "data": {
      "image/png": "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\n",
      "text/plain": [
       "<Figure size 432x288 with 1 Axes>"
      ]
     },
     "metadata": {
      "needs_background": "light"
     },
     "output_type": "display_data"
    }
   ],
   "source": [
    "plt.figure()\n",
    "plt.plot(x,data)\n",
    "plt.ylabel('data')\n",
    "plt.xlabel('x')\n",
    "plt.show()"
   ]
=======
   "outputs": [],
   "source": []
>>>>>>> 03042b8b43e417f61a38e9309c7a82eb8add1119
  },
  {
   "cell_type": "markdown",
   "metadata": {},
   "source": [
    "### Two-dimensional data\n",
    "\n",
    "Let's make our data dependent on two dimensions - **x** and **y**. I have made them equal to each other to keep things simple."
   ]
  },
  {
   "cell_type": "code",
   "execution_count": null,
   "metadata": {},
   "outputs": [],
   "source": [
    "y = x\n",
    "X, Y = np.meshgrid(x,y)\n",
    "data = X**2 + Y**2"
   ]
  },
  {
   "cell_type": "markdown",
   "metadata": {},
   "source": [
    "Have a look at the data variable. It looks a little bit like a grid with each point corresponding to a x and y value."
   ]
  },
  {
   "cell_type": "code",
   "execution_count": null,
   "metadata": {},
   "outputs": [],
   "source": [
    "data"
   ]
  },
  {
   "cell_type": "markdown",
   "metadata": {},
   "source": [
    "Print the shape of the data that tells you the number of dimensions and the length of each dimension. Do these numbers make sense?\n",
    "\n",
    "`data_array.shape`: length of each dimension of array"
   ]
  },
  {
   "cell_type": "code",
   "execution_count": null,
   "metadata": {},
   "outputs": [],
   "source": [
<<<<<<< HEAD
    "print('length of x:', len(x))\n",
    "print('length of y:', len(y))\n",
    "print('shape of data:', data.shape)"
=======
    "print('length of x:', 0)\n",
    "print('length of y:', 0)\n",
    "print('shape of data:', 0)"
>>>>>>> 03042b8b43e417f61a38e9309c7a82eb8add1119
   ]
  },
  {
   "cell_type": "markdown",
   "metadata": {},
   "source": [
    "### Visualizing two-dimensional data\n",
    "\n",
    "The following plot helps you visualize this data. The circular lines or **contours** show you points of equal value."
   ]
  },
  {
   "cell_type": "code",
   "execution_count": null,
   "metadata": {},
   "outputs": [],
   "source": [
    "fig = plt.figure()\n",
    "ax = plt.axes(projection='3d')\n",
    "ax.contour3D(x, y, data, 25)\n",
    "plt.show()"
   ]
  },
  {
   "cell_type": "markdown",
   "metadata": {},
   "source": [
    "A flattened version of this plot is know as a **contour plot**\n",
    "\n",
    "`contour(X,Y,Z)`: plots contours of a two dimensional dataset"
   ]
  },
  {
   "cell_type": "code",
   "execution_count": null,
   "metadata": {},
   "outputs": [],
   "source": [
    "plt.figure()\n",
    "plt.contour(x,y,data)\n",
    "plt.colorbar(label = 'data')\n",
    "plt.xlabel('x')\n",
    "plt.ylabel('y')\n",
    "plt.show()"
   ]
  },
  {
   "cell_type": "markdown",
   "metadata": {},
   "source": [
    "A filled in contour plot is used extensively in earth sciences and is hopefully familiar to you already\n",
    "\n",
    "`contourf(X,Y,Z)`: plots filled-in contours of a two dimensional dataset"
   ]
  },
  {
   "cell_type": "code",
   "execution_count": null,
   "metadata": {},
   "outputs": [],
   "source": [
    "plt.figure()\n",
    "plt.contourf(X,Y,data)\n",
    "plt.colorbar(label = 'data')\n",
    "plt.xlabel('x')\n",
    "plt.ylabel('y')\n",
    "plt.show()"
   ]
  },
  {
   "cell_type": "markdown",
   "metadata": {},
   "source": [
    "### Practice\n",
    "\n",
    "In your processing data script (`process_SST_data.py`), \n",
    "1. visualize your sst data using a contour plot\n",
    "\n",
    "*Hint*: remember your data is three-dimensional. One way you can get a two-dimensional dataset by finding the mean SST ([documentation for the `mean` method](http://xarray.pydata.org/en/stable/generated/xarray.DataArray.mean.html)). Are there other ways you can do this?\n",
    "\n",
    "Use the space below to test out your code."
   ]
  },
  {
   "cell_type": "code",
   "execution_count": null,
   "metadata": {},
   "outputs": [],
   "source": []
  }
 ],
 "metadata": {
  "kernelspec": {
   "display_name": "Python 3",
   "language": "python",
   "name": "python3"
  },
  "language_info": {
   "codemirror_mode": {
    "name": "ipython",
    "version": 3
   },
   "file_extension": ".py",
   "mimetype": "text/x-python",
   "name": "python",
   "nbconvert_exporter": "python",
   "pygments_lexer": "ipython3",
   "version": "3.8.3"
  }
 },
 "nbformat": 4,
 "nbformat_minor": 4
}
